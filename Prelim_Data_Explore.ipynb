{
 "cells": [
  {
   "cell_type": "markdown",
   "metadata": {},
   "source": [
    "## Preliminary Exploration and Mapping"
   ]
  },
  {
   "cell_type": "code",
   "execution_count": 1,
   "metadata": {
    "collapsed": true
   },
   "outputs": [],
   "source": [
    "# print_function for compatibility with Python 3\n",
    "from __future__ import print_function\n",
    "# NumPy and Pandas\n",
    "import numpy as np\n",
    "import pandas as pd\n",
    "pd.set_option('display.max_columns', 100)\n",
    "pd.set_option('display.float_format', lambda x: '%.3f' % x)\n",
    "# Matplotlib, and remember to display plots in the notebook\n",
    "from matplotlib import pyplot as plt\n",
    "%matplotlib inline\n",
    "# Seaborn for easier visualization\n",
    "import seaborn as sns"
   ]
  },
  {
   "cell_type": "code",
   "execution_count": 2,
   "metadata": {},
   "outputs": [
    {
     "name": "stderr",
     "output_type": "stream",
     "text": [
      "C:\\Users\\Richard\\AppData\\Local\\Continuum\\Anaconda3\\lib\\site-packages\\IPython\\core\\interactiveshell.py:2717: DtypeWarning: Columns (6) have mixed types. Specify dtype option on import or set low_memory=False.\n",
      "  interactivity=interactivity, compiler=compiler, result=result)\n"
     ]
    }
   ],
   "source": [
    "#load contribution data as a Dataframe\n",
    "fec = pd.read_csv('dataset/P00000001-ALL.csv')"
   ]
  },
  {
   "cell_type": "code",
   "execution_count": 3,
   "metadata": {},
   "outputs": [
    {
     "data": {
      "text/html": [
       "<div>\n",
       "<style>\n",
       "    .dataframe thead tr:only-child th {\n",
       "        text-align: right;\n",
       "    }\n",
       "\n",
       "    .dataframe thead th {\n",
       "        text-align: left;\n",
       "    }\n",
       "\n",
       "    .dataframe tbody tr th {\n",
       "        vertical-align: top;\n",
       "    }\n",
       "</style>\n",
       "<table border=\"1\" class=\"dataframe\">\n",
       "  <thead>\n",
       "    <tr style=\"text-align: right;\">\n",
       "      <th></th>\n",
       "      <th>cmte_id</th>\n",
       "      <th>cand_id</th>\n",
       "      <th>cand_nm</th>\n",
       "      <th>contbr_nm</th>\n",
       "      <th>contbr_city</th>\n",
       "      <th>contbr_st</th>\n",
       "      <th>contbr_zip</th>\n",
       "      <th>contbr_employer</th>\n",
       "      <th>contbr_occupation</th>\n",
       "      <th>contb_receipt_amt</th>\n",
       "      <th>contb_receipt_dt</th>\n",
       "      <th>receipt_desc</th>\n",
       "      <th>memo_cd</th>\n",
       "      <th>memo_text</th>\n",
       "      <th>form_tp</th>\n",
       "      <th>file_num</th>\n",
       "    </tr>\n",
       "  </thead>\n",
       "  <tbody>\n",
       "    <tr>\n",
       "      <th>0</th>\n",
       "      <td>C00410118</td>\n",
       "      <td>P20002978</td>\n",
       "      <td>Bachmann, Michelle</td>\n",
       "      <td>HARVEY, WILLIAM</td>\n",
       "      <td>MOBILE</td>\n",
       "      <td>AL</td>\n",
       "      <td>366010290.000</td>\n",
       "      <td>RETIRED</td>\n",
       "      <td>RETIRED</td>\n",
       "      <td>250.000</td>\n",
       "      <td>20-JUN-11</td>\n",
       "      <td>NaN</td>\n",
       "      <td>NaN</td>\n",
       "      <td>NaN</td>\n",
       "      <td>SA17A</td>\n",
       "      <td>736166</td>\n",
       "    </tr>\n",
       "    <tr>\n",
       "      <th>1</th>\n",
       "      <td>C00410118</td>\n",
       "      <td>P20002978</td>\n",
       "      <td>Bachmann, Michelle</td>\n",
       "      <td>HARVEY, WILLIAM</td>\n",
       "      <td>MOBILE</td>\n",
       "      <td>AL</td>\n",
       "      <td>366010290.000</td>\n",
       "      <td>RETIRED</td>\n",
       "      <td>RETIRED</td>\n",
       "      <td>50.000</td>\n",
       "      <td>23-JUN-11</td>\n",
       "      <td>NaN</td>\n",
       "      <td>NaN</td>\n",
       "      <td>NaN</td>\n",
       "      <td>SA17A</td>\n",
       "      <td>736166</td>\n",
       "    </tr>\n",
       "    <tr>\n",
       "      <th>2</th>\n",
       "      <td>C00410118</td>\n",
       "      <td>P20002978</td>\n",
       "      <td>Bachmann, Michelle</td>\n",
       "      <td>SMITH, LANIER</td>\n",
       "      <td>LANETT</td>\n",
       "      <td>AL</td>\n",
       "      <td>368633403.000</td>\n",
       "      <td>INFORMATION REQUESTED</td>\n",
       "      <td>INFORMATION REQUESTED</td>\n",
       "      <td>250.000</td>\n",
       "      <td>05-JUL-11</td>\n",
       "      <td>NaN</td>\n",
       "      <td>NaN</td>\n",
       "      <td>NaN</td>\n",
       "      <td>SA17A</td>\n",
       "      <td>749073</td>\n",
       "    </tr>\n",
       "    <tr>\n",
       "      <th>3</th>\n",
       "      <td>C00410118</td>\n",
       "      <td>P20002978</td>\n",
       "      <td>Bachmann, Michelle</td>\n",
       "      <td>BLEVINS, DARONDA</td>\n",
       "      <td>PIGGOTT</td>\n",
       "      <td>AR</td>\n",
       "      <td>724548253.000</td>\n",
       "      <td>NONE</td>\n",
       "      <td>RETIRED</td>\n",
       "      <td>250.000</td>\n",
       "      <td>01-AUG-11</td>\n",
       "      <td>NaN</td>\n",
       "      <td>NaN</td>\n",
       "      <td>NaN</td>\n",
       "      <td>SA17A</td>\n",
       "      <td>749073</td>\n",
       "    </tr>\n",
       "    <tr>\n",
       "      <th>4</th>\n",
       "      <td>C00410118</td>\n",
       "      <td>P20002978</td>\n",
       "      <td>Bachmann, Michelle</td>\n",
       "      <td>WARDENBURG, HAROLD</td>\n",
       "      <td>HOT SPRINGS NATION</td>\n",
       "      <td>AR</td>\n",
       "      <td>719016467.000</td>\n",
       "      <td>NONE</td>\n",
       "      <td>RETIRED</td>\n",
       "      <td>300.000</td>\n",
       "      <td>20-JUN-11</td>\n",
       "      <td>NaN</td>\n",
       "      <td>NaN</td>\n",
       "      <td>NaN</td>\n",
       "      <td>SA17A</td>\n",
       "      <td>736166</td>\n",
       "    </tr>\n",
       "  </tbody>\n",
       "</table>\n",
       "</div>"
      ],
      "text/plain": [
       "     cmte_id    cand_id             cand_nm           contbr_nm  \\\n",
       "0  C00410118  P20002978  Bachmann, Michelle     HARVEY, WILLIAM   \n",
       "1  C00410118  P20002978  Bachmann, Michelle     HARVEY, WILLIAM   \n",
       "2  C00410118  P20002978  Bachmann, Michelle       SMITH, LANIER   \n",
       "3  C00410118  P20002978  Bachmann, Michelle    BLEVINS, DARONDA   \n",
       "4  C00410118  P20002978  Bachmann, Michelle  WARDENBURG, HAROLD   \n",
       "\n",
       "          contbr_city contbr_st    contbr_zip        contbr_employer  \\\n",
       "0              MOBILE        AL 366010290.000                RETIRED   \n",
       "1              MOBILE        AL 366010290.000                RETIRED   \n",
       "2              LANETT        AL 368633403.000  INFORMATION REQUESTED   \n",
       "3             PIGGOTT        AR 724548253.000                   NONE   \n",
       "4  HOT SPRINGS NATION        AR 719016467.000                   NONE   \n",
       "\n",
       "       contbr_occupation  contb_receipt_amt contb_receipt_dt receipt_desc  \\\n",
       "0                RETIRED            250.000        20-JUN-11          NaN   \n",
       "1                RETIRED             50.000        23-JUN-11          NaN   \n",
       "2  INFORMATION REQUESTED            250.000        05-JUL-11          NaN   \n",
       "3                RETIRED            250.000        01-AUG-11          NaN   \n",
       "4                RETIRED            300.000        20-JUN-11          NaN   \n",
       "\n",
       "  memo_cd memo_text form_tp  file_num  \n",
       "0     NaN       NaN   SA17A    736166  \n",
       "1     NaN       NaN   SA17A    736166  \n",
       "2     NaN       NaN   SA17A    749073  \n",
       "3     NaN       NaN   SA17A    749073  \n",
       "4     NaN       NaN   SA17A    736166  "
      ]
     },
     "execution_count": 3,
     "metadata": {},
     "output_type": "execute_result"
    }
   ],
   "source": [
    "#print first five observations to understand column attributes\n",
    "fec.head()"
   ]
  },
  {
   "cell_type": "code",
   "execution_count": 4,
   "metadata": {},
   "outputs": [
    {
     "data": {
      "text/plain": [
       "(1001731, 16)"
      ]
     },
     "execution_count": 4,
     "metadata": {},
     "output_type": "execute_result"
    }
   ],
   "source": [
    "#print columns and rows numbers\n",
    "fec.shape"
   ]
  },
  {
   "cell_type": "code",
   "execution_count": 5,
   "metadata": {
    "scrolled": true
   },
   "outputs": [
    {
     "data": {
      "text/html": [
       "<div>\n",
       "<style>\n",
       "    .dataframe thead tr:only-child th {\n",
       "        text-align: right;\n",
       "    }\n",
       "\n",
       "    .dataframe thead th {\n",
       "        text-align: left;\n",
       "    }\n",
       "\n",
       "    .dataframe tbody tr th {\n",
       "        vertical-align: top;\n",
       "    }\n",
       "</style>\n",
       "<table border=\"1\" class=\"dataframe\">\n",
       "  <thead>\n",
       "    <tr style=\"text-align: right;\">\n",
       "      <th></th>\n",
       "      <th>cmte_id</th>\n",
       "      <th>cand_id</th>\n",
       "      <th>cand_nm</th>\n",
       "      <th>contbr_nm</th>\n",
       "      <th>contbr_city</th>\n",
       "      <th>contbr_st</th>\n",
       "      <th>contbr_zip</th>\n",
       "      <th>contbr_employer</th>\n",
       "      <th>contbr_occupation</th>\n",
       "      <th>contb_receipt_amt</th>\n",
       "      <th>contb_receipt_dt</th>\n",
       "      <th>receipt_desc</th>\n",
       "      <th>memo_cd</th>\n",
       "      <th>memo_text</th>\n",
       "      <th>form_tp</th>\n",
       "      <th>file_num</th>\n",
       "    </tr>\n",
       "  </thead>\n",
       "  <tbody>\n",
       "    <tr>\n",
       "      <th>123456</th>\n",
       "      <td>C00431445</td>\n",
       "      <td>P80003338</td>\n",
       "      <td>Obama, Barack</td>\n",
       "      <td>ELLMAN, IRA</td>\n",
       "      <td>TEMPE</td>\n",
       "      <td>AZ</td>\n",
       "      <td>852816719</td>\n",
       "      <td>ARIZONA STATE UNIVERSITY</td>\n",
       "      <td>PROFESSOR</td>\n",
       "      <td>50.000</td>\n",
       "      <td>01-DEC-11</td>\n",
       "      <td>NaN</td>\n",
       "      <td>NaN</td>\n",
       "      <td>NaN</td>\n",
       "      <td>SA17A</td>\n",
       "      <td>772372</td>\n",
       "    </tr>\n",
       "    <tr>\n",
       "      <th>123457</th>\n",
       "      <td>C00431445</td>\n",
       "      <td>P80003338</td>\n",
       "      <td>Obama, Barack</td>\n",
       "      <td>HOETKER, NANCY</td>\n",
       "      <td>SCOTTSDALE</td>\n",
       "      <td>AZ</td>\n",
       "      <td>852592805</td>\n",
       "      <td>HOETKER FAMILY</td>\n",
       "      <td>HOMEMAKER</td>\n",
       "      <td>25.000</td>\n",
       "      <td>30-OCT-11</td>\n",
       "      <td>NaN</td>\n",
       "      <td>NaN</td>\n",
       "      <td>NaN</td>\n",
       "      <td>SA17A</td>\n",
       "      <td>772372</td>\n",
       "    </tr>\n",
       "    <tr>\n",
       "      <th>123458</th>\n",
       "      <td>C00431445</td>\n",
       "      <td>P80003338</td>\n",
       "      <td>Obama, Barack</td>\n",
       "      <td>BARR, JANICE I.</td>\n",
       "      <td>SUN CITY</td>\n",
       "      <td>AZ</td>\n",
       "      <td>853731753</td>\n",
       "      <td>RETIRED</td>\n",
       "      <td>REALTOR</td>\n",
       "      <td>100.000</td>\n",
       "      <td>23-NOV-11</td>\n",
       "      <td>NaN</td>\n",
       "      <td>NaN</td>\n",
       "      <td>NaN</td>\n",
       "      <td>SA17A</td>\n",
       "      <td>772372</td>\n",
       "    </tr>\n",
       "    <tr>\n",
       "      <th>123459</th>\n",
       "      <td>C00431445</td>\n",
       "      <td>P80003338</td>\n",
       "      <td>Obama, Barack</td>\n",
       "      <td>EILBERT, NATASHA</td>\n",
       "      <td>YUMA</td>\n",
       "      <td>AZ</td>\n",
       "      <td>53713</td>\n",
       "      <td>KOFA HIGH SCHOOL</td>\n",
       "      <td>TEACHER</td>\n",
       "      <td>250.000</td>\n",
       "      <td>23-DEC-11</td>\n",
       "      <td>NaN</td>\n",
       "      <td>NaN</td>\n",
       "      <td>NaN</td>\n",
       "      <td>SA17A</td>\n",
       "      <td>772372</td>\n",
       "    </tr>\n",
       "    <tr>\n",
       "      <th>123460</th>\n",
       "      <td>C00431445</td>\n",
       "      <td>P80003338</td>\n",
       "      <td>Obama, Barack</td>\n",
       "      <td>GENINATTI, MARILYN</td>\n",
       "      <td>PARADISE VALLEY</td>\n",
       "      <td>AZ</td>\n",
       "      <td>852535160</td>\n",
       "      <td>ARIZONA EMERGENCY SPECIALISTS</td>\n",
       "      <td>EMERGENCY AND WOUND CARE PHYSICIAN</td>\n",
       "      <td>250.000</td>\n",
       "      <td>01-DEC-11</td>\n",
       "      <td>NaN</td>\n",
       "      <td>NaN</td>\n",
       "      <td>NaN</td>\n",
       "      <td>SA17A</td>\n",
       "      <td>772372</td>\n",
       "    </tr>\n",
       "  </tbody>\n",
       "</table>\n",
       "</div>"
      ],
      "text/plain": [
       "          cmte_id    cand_id        cand_nm           contbr_nm  \\\n",
       "123456  C00431445  P80003338  Obama, Barack         ELLMAN, IRA   \n",
       "123457  C00431445  P80003338  Obama, Barack      HOETKER, NANCY   \n",
       "123458  C00431445  P80003338  Obama, Barack     BARR, JANICE I.   \n",
       "123459  C00431445  P80003338  Obama, Barack    EILBERT, NATASHA   \n",
       "123460  C00431445  P80003338  Obama, Barack  GENINATTI, MARILYN   \n",
       "\n",
       "            contbr_city contbr_st contbr_zip                contbr_employer  \\\n",
       "123456            TEMPE        AZ  852816719       ARIZONA STATE UNIVERSITY   \n",
       "123457       SCOTTSDALE        AZ  852592805                 HOETKER FAMILY   \n",
       "123458         SUN CITY        AZ  853731753                        RETIRED   \n",
       "123459             YUMA        AZ      53713               KOFA HIGH SCHOOL   \n",
       "123460  PARADISE VALLEY        AZ  852535160  ARIZONA EMERGENCY SPECIALISTS   \n",
       "\n",
       "                         contbr_occupation  contb_receipt_amt  \\\n",
       "123456                           PROFESSOR             50.000   \n",
       "123457                           HOMEMAKER             25.000   \n",
       "123458                             REALTOR            100.000   \n",
       "123459                             TEACHER            250.000   \n",
       "123460  EMERGENCY AND WOUND CARE PHYSICIAN            250.000   \n",
       "\n",
       "       contb_receipt_dt receipt_desc memo_cd memo_text form_tp  file_num  \n",
       "123456        01-DEC-11          NaN     NaN       NaN   SA17A    772372  \n",
       "123457        30-OCT-11          NaN     NaN       NaN   SA17A    772372  \n",
       "123458        23-NOV-11          NaN     NaN       NaN   SA17A    772372  \n",
       "123459        23-DEC-11          NaN     NaN       NaN   SA17A    772372  \n",
       "123460        01-DEC-11          NaN     NaN       NaN   SA17A    772372  "
      ]
     },
     "execution_count": 5,
     "metadata": {},
     "output_type": "execute_result"
    }
   ],
   "source": [
    "#print location series to review column attributes\n",
    "fec.iloc[123456:123461]"
   ]
  },
  {
   "cell_type": "code",
   "execution_count": 6,
   "metadata": {
    "collapsed": true
   },
   "outputs": [],
   "source": [
    "#write unique_cands to determine categorical data from cand_nm\n",
    "unique_cands = fec.cand_nm.unique()"
   ]
  },
  {
   "cell_type": "code",
   "execution_count": 7,
   "metadata": {},
   "outputs": [
    {
     "data": {
      "text/plain": [
       "array(['Bachmann, Michelle', 'Romney, Mitt', 'Obama, Barack',\n",
       "       \"Roemer, Charles E. 'Buddy' III\", 'Pawlenty, Timothy',\n",
       "       'Johnson, Gary Earl', 'Paul, Ron', 'Santorum, Rick', 'Cain, Herman',\n",
       "       'Gingrich, Newt', 'McCotter, Thaddeus G', 'Huntsman, Jon',\n",
       "       'Perry, Rick'], dtype=object)"
      ]
     },
     "execution_count": 7,
     "metadata": {},
     "output_type": "execute_result"
    }
   ],
   "source": [
    "unique_cands"
   ]
  },
  {
   "cell_type": "code",
   "execution_count": 8,
   "metadata": {
    "collapsed": true
   },
   "outputs": [],
   "source": [
    "#create a dictionary to indicate party affiliation\n",
    "\n",
    "parties = {'Bachman, Michell' : 'Republican',\n",
    "          'Cain, Herman' : 'Republican',\n",
    "          'Gingrich, Newt' : 'Republican',\n",
    "          'Huntsman, Jon' : 'Republican',\n",
    "          'Johnson, Gary Earl' : 'Republican',\n",
    "          'McCotter, Thaddeus G' : 'Republican',\n",
    "          'Obama, Barack' : 'Democrat',\n",
    "          'Paul, Ron' : 'Republican',\n",
    "          'Pawlenty, Timothy' : 'Republican',\n",
    "          'Perry, Rick' : 'Republican',\n",
    "          \"Roemer, Charles E. 'Buddy' III\" : 'Republican',\n",
    "          'Romney, Mitt' : 'Republican',\n",
    "          'Santorum, Rick' : 'Republican'}"
   ]
  },
  {
   "cell_type": "code",
   "execution_count": 9,
   "metadata": {},
   "outputs": [
    {
     "data": {
      "text/plain": [
       "123456    Obama, Barack\n",
       "123457    Obama, Barack\n",
       "123458    Obama, Barack\n",
       "123459    Obama, Barack\n",
       "123460    Obama, Barack\n",
       "Name: cand_nm, dtype: object"
      ]
     },
     "execution_count": 9,
     "metadata": {},
     "output_type": "execute_result"
    }
   ],
   "source": [
    "#print candidate(s) from above iloc\n",
    "\n",
    "fec.cand_nm[123456 : 123461]"
   ]
  },
  {
   "cell_type": "code",
   "execution_count": 10,
   "metadata": {},
   "outputs": [
    {
     "data": {
      "text/plain": [
       "123456    Democrat\n",
       "123457    Democrat\n",
       "123458    Democrat\n",
       "123459    Democrat\n",
       "123460    Democrat\n",
       "Name: cand_nm, dtype: object"
      ]
     },
     "execution_count": 10,
     "metadata": {},
     "output_type": "execute_result"
    }
   ],
   "source": [
    "#use the <map> method to compute an array of political parties from candidate names\n",
    "\n",
    "fec.cand_nm[123456 : 123461].map(parties)"
   ]
  },
  {
   "cell_type": "code",
   "execution_count": 11,
   "metadata": {
    "collapsed": true
   },
   "outputs": [],
   "source": [
    "#add mapping of party affiliation dictionary as a separate column\n",
    "\n",
    "fec['party'] = fec.cand_nm.map(parties)"
   ]
  },
  {
   "cell_type": "code",
   "execution_count": 12,
   "metadata": {},
   "outputs": [
    {
     "data": {
      "text/plain": [
       "Democrat      593746\n",
       "Republican    394845\n",
       "Name: party, dtype: int64"
      ]
     },
     "execution_count": 12,
     "metadata": {},
     "output_type": "execute_result"
    }
   ],
   "source": [
    "#print counts of party affliation\n",
    "\n",
    "fec['party'].value_counts()"
   ]
  },
  {
   "cell_type": "code",
   "execution_count": 13,
   "metadata": {},
   "outputs": [
    {
     "data": {
      "text/plain": [
       "True     991475\n",
       "False     10256\n",
       "Name: contb_receipt_amt, dtype: int64"
      ]
     },
     "execution_count": 13,
     "metadata": {},
     "output_type": "execute_result"
    }
   ],
   "source": [
    "#determine the number of refunds (e.g., 'contb_receipt_amt <= 0')\n",
    "\n",
    "(fec.contb_receipt_amt > 0).value_counts()"
   ]
  },
  {
   "cell_type": "code",
   "execution_count": 14,
   "metadata": {
    "collapsed": true
   },
   "outputs": [],
   "source": [
    "#limit the data to only positive (e.g., non-refunded) contributions\n",
    "\n",
    "fec = fec[fec.contb_receipt_amt > 0]"
   ]
  },
  {
   "cell_type": "code",
   "execution_count": 15,
   "metadata": {},
   "outputs": [
    {
     "data": {
      "text/plain": [
       "True    991475\n",
       "Name: contb_receipt_amt, dtype: int64"
      ]
     },
     "execution_count": 15,
     "metadata": {},
     "output_type": "execute_result"
    }
   ],
   "source": [
    "#check work\n",
    "\n",
    "(fec.contb_receipt_amt > 0).value_counts()"
   ]
  },
  {
   "cell_type": "code",
   "execution_count": 16,
   "metadata": {
    "collapsed": true
   },
   "outputs": [],
   "source": [
    "#prepare a subset for the main candidates, Obama and Romney\n",
    "\n",
    "fec_mrbo = fec[fec.cand_nm.isin(['Obama, Barack', 'Romney, Mitt'])]"
   ]
  },
  {
   "cell_type": "code",
   "execution_count": 17,
   "metadata": {},
   "outputs": [
    {
     "data": {
      "text/plain": [
       "(694282, 17)"
      ]
     },
     "execution_count": 17,
     "metadata": {},
     "output_type": "execute_result"
    }
   ],
   "source": [
    "fec_mrbo.shape"
   ]
  },
  {
   "cell_type": "markdown",
   "metadata": {
    "collapsed": true
   },
   "source": [
    "## Determining Donations by Occupation"
   ]
  },
  {
   "cell_type": "code",
   "execution_count": 19,
   "metadata": {},
   "outputs": [
    {
     "data": {
      "text/plain": [
       "RETIRED                                   233990\n",
       "INFORMATION REQUESTED                      35107\n",
       "ATTORNEY                                   34286\n",
       "HOMEMAKER                                  29931\n",
       "PHYSICIAN                                  23432\n",
       "INFORMATION REQUESTED PER BEST EFFORTS     21138\n",
       "ENGINEER                                   14334\n",
       "TEACHER                                    13990\n",
       "CONSULTANT                                 13273\n",
       "PROFESSOR                                  12555\n",
       "NOT EMPLOYED                                9828\n",
       "SALES                                       8333\n",
       "LAWYER                                      8283\n",
       "MANAGER                                     8024\n",
       "PRESIDENT                                   7758\n",
       "STUDENT                                     7071\n",
       "OWNER                                       6343\n",
       "EXECUTIVE                                   5506\n",
       "SELF-EMPLOYED                               5472\n",
       "WRITER                                      5128\n",
       "SOFTWARE ENGINEER                           4960\n",
       "CEO                                         4932\n",
       "BUSINESS OWNER                              4380\n",
       "ACCOUNTANT                                  4175\n",
       "ARTIST                                      3724\n",
       "EDUCATOR                                    3576\n",
       "RN                                          3262\n",
       "REGISTERED NURSE                            3079\n",
       "INVESTOR                                    2708\n",
       "REAL ESTATE                                 2644\n",
       "                                           ...  \n",
       "FILM SOUND EDITOR                              1\n",
       "JEWELER AND BUSINESS OWNER                     1\n",
       "HOSPITALITY/BANQUET                            1\n",
       "STATE GOVERNMENT BUDGET EXAMINER               1\n",
       "TRUCKING/PROPERTY MANAGEMENT                   1\n",
       "SES RETIRED                                    1\n",
       "PRODUCT MARKETING MGR                          1\n",
       "FACILITATOR AND TRAINER                        1\n",
       "SACRAMENTAL COORDINATOR                        1\n",
       "PROJECT MANAGER AFFORDABLE HOUSING             1\n",
       "PEST MANAGEMENT COMPANY OWNER                  1\n",
       "CORPORATE AND INVESTMENT BANKING               1\n",
       "ECONOMIST/INVESTOR                             1\n",
       "PROGRAM DEVELOPMENT & EVALUATION CONSU         1\n",
       "PRISON MINISTER                                1\n",
       "SMALL FAMILY SHOP                              1\n",
       "EXECUTIVE VICE PRESIDENT OF UTILITY OP         1\n",
       "ENGINEERING/DESIGN/SALES                       1\n",
       "PROGRAMMER ANALYST IV                          1\n",
       "WIND CONTRACTOR                                1\n",
       "MARKETING, PETROLEUM PRODUCTS                  1\n",
       "RESEARCH ASSISTANT/GRAD STUDENT                1\n",
       "KEY BOARD OPERATOR                             1\n",
       "MARKETING CONSULTANT/PARTNER                   1\n",
       "CIVIL SERVANT - SUPERVISOR, GRADUATE M         1\n",
       "FILM DEVELOPER                                 1\n",
       "VICE PRESDIENT OF SALES                        1\n",
       "PRESIDENT & C.EO.                              1\n",
       "PHYSICIAN/WRITER                               1\n",
       "ACTOR/INNKEEPER                                1\n",
       "Name: contbr_occupation, Length: 45067, dtype: int64"
      ]
     },
     "execution_count": 19,
     "metadata": {},
     "output_type": "execute_result"
    }
   ],
   "source": [
    "#review the unique categories, by value counts. '.unique()' is too truncated.\n",
    "\n",
    "fec.contbr_occupation.value_counts()"
   ]
  },
  {
   "cell_type": "markdown",
   "metadata": {},
   "source": [
    "_Since there are too many to list, more exploration is necessary_"
   ]
  },
  {
   "cell_type": "code",
   "execution_count": 21,
   "metadata": {},
   "outputs": [
    {
     "data": {
      "text/plain": [
       "RETIRED                                   233990\n",
       "INFORMATION REQUESTED                      35107\n",
       "ATTORNEY                                   34286\n",
       "HOMEMAKER                                  29931\n",
       "PHYSICIAN                                  23432\n",
       "INFORMATION REQUESTED PER BEST EFFORTS     21138\n",
       "ENGINEER                                   14334\n",
       "TEACHER                                    13990\n",
       "CONSULTANT                                 13273\n",
       "PROFESSOR                                  12555\n",
       "Name: contbr_occupation, dtype: int64"
      ]
     },
     "execution_count": 21,
     "metadata": {},
     "output_type": "execute_result"
    }
   ],
   "source": [
    "#print the first ten occupation value_counts()\n",
    "\n",
    "fec.contbr_occupation.value_counts()[:10]"
   ]
  },
  {
   "cell_type": "markdown",
   "metadata": {},
   "source": [
    "_Certain occupations are redundant (e.g., 'Information Requested' \n",
    "and 'Information Requested per Best Efforts). Thus, it is necessary\n",
    "to simplify._"
   ]
  },
  {
   "cell_type": "code",
   "execution_count": 25,
   "metadata": {},
   "outputs": [],
   "source": [
    "#use mapping to provide simplification\n",
    "\n",
    "occ_mapping = {\n",
    "    'INFORMATION REQUESTED PER BEST EFFORTS' : 'NOT PROVIDED',\n",
    "    'INFORMATION REQUESTED' : 'NOT PROVIDED',\n",
    "    'INFORMATION REQUESTED (BEST EFFORTS)' : 'NOT PROVIDED',\n",
    "    'C.E.O.' : 'CEO'\n",
    "}"
   ]
  },
  {
   "cell_type": "code",
   "execution_count": 26,
   "metadata": {
    "collapsed": true
   },
   "outputs": [],
   "source": [
    "#if no mapping provided, return 'x'\n",
    "\n",
    "f = lambda x: occ_mapping.get(x , x)\n",
    "fec.contbr_occupation = fec.contbr_occupation.map(f)"
   ]
  },
  {
   "cell_type": "code",
   "execution_count": 29,
   "metadata": {},
   "outputs": [
    {
     "data": {
      "text/plain": [
       "RETIRED          233990\n",
       "NOT PROVIDED      57151\n",
       "ATTORNEY          34286\n",
       "HOMEMAKER         29931\n",
       "PHYSICIAN         23432\n",
       "ENGINEER          14334\n",
       "TEACHER           13990\n",
       "CONSULTANT        13273\n",
       "PROFESSOR         12555\n",
       "NOT EMPLOYED       9828\n",
       "SALES              8333\n",
       "LAWYER             8283\n",
       "MANAGER            8024\n",
       "PRESIDENT          7758\n",
       "STUDENT            7071\n",
       "CEO                6526\n",
       "OWNER              6343\n",
       "EXECUTIVE          5506\n",
       "SELF-EMPLOYED      5472\n",
       "WRITER             5128\n",
       "Name: contbr_occupation, dtype: int64"
      ]
     },
     "execution_count": 29,
     "metadata": {},
     "output_type": "execute_result"
    }
   ],
   "source": [
    "#double-check work\n",
    "\n",
    "fec.contbr_occupation.value_counts()[:20]"
   ]
  },
  {
   "cell_type": "code",
   "execution_count": 30,
   "metadata": {
    "collapsed": true
   },
   "outputs": [],
   "source": [
    "#map for employers as well, to aggregate\n",
    "\n",
    "emp_mapping = {\n",
    "    'INFORMATION REQUESTED PER BEST EFFORTS' : 'NOT PROVIDED',\n",
    "    'INFORMATION REQUESTED' : 'NOT PROVIDED',\n",
    "    'SELF' : 'SELF-EMPLOYED',\n",
    "    'SELF EMPLOYED' : 'SELF-EMPLOYED'\n",
    "}"
   ]
  },
  {
   "cell_type": "code",
   "execution_count": 31,
   "metadata": {
    "collapsed": true
   },
   "outputs": [],
   "source": [
    "#again, if no mapping provided, return 'x'\n",
    "\n",
    "f = lambda x: emp_mapping.get(x , x)\n",
    "fec.contbr_employer = fec.contbr_employer.map(f)"
   ]
  },
  {
   "cell_type": "code",
   "execution_count": 32,
   "metadata": {
    "collapsed": true
   },
   "outputs": [],
   "source": [
    "#use pivot_table to aggregate the data by party and occupation\n",
    "#filter down to the subset that donated at least $2m overall\n",
    "\n",
    "by_occupation = fec.pivot_table('contb_receipt_amt',\n",
    "                               index='contbr_occupation',\n",
    "                               columns='party', aggfunc='sum')"
   ]
  },
  {
   "cell_type": "code",
   "execution_count": 33,
   "metadata": {
    "collapsed": true
   },
   "outputs": [],
   "source": [
    "over_2mm = by_occupation[by_occupation.sum(1) > 2000000]"
   ]
  },
  {
   "cell_type": "code",
   "execution_count": 34,
   "metadata": {},
   "outputs": [
    {
     "data": {
      "text/html": [
       "<div>\n",
       "<style>\n",
       "    .dataframe thead tr:only-child th {\n",
       "        text-align: right;\n",
       "    }\n",
       "\n",
       "    .dataframe thead th {\n",
       "        text-align: left;\n",
       "    }\n",
       "\n",
       "    .dataframe tbody tr th {\n",
       "        vertical-align: top;\n",
       "    }\n",
       "</style>\n",
       "<table border=\"1\" class=\"dataframe\">\n",
       "  <thead>\n",
       "    <tr style=\"text-align: right;\">\n",
       "      <th>party</th>\n",
       "      <th>Democrat</th>\n",
       "      <th>Republican</th>\n",
       "    </tr>\n",
       "    <tr>\n",
       "      <th>contbr_occupation</th>\n",
       "      <th></th>\n",
       "      <th></th>\n",
       "    </tr>\n",
       "  </thead>\n",
       "  <tbody>\n",
       "    <tr>\n",
       "      <th>ATTORNEY</th>\n",
       "      <td>11141982.970</td>\n",
       "      <td>7430110.430</td>\n",
       "    </tr>\n",
       "    <tr>\n",
       "      <th>CEO</th>\n",
       "      <td>2074974.790</td>\n",
       "      <td>4157391.520</td>\n",
       "    </tr>\n",
       "    <tr>\n",
       "      <th>CONSULTANT</th>\n",
       "      <td>2459912.710</td>\n",
       "      <td>2511956.950</td>\n",
       "    </tr>\n",
       "    <tr>\n",
       "      <th>ENGINEER</th>\n",
       "      <td>951525.550</td>\n",
       "      <td>1768608.950</td>\n",
       "    </tr>\n",
       "    <tr>\n",
       "      <th>EXECUTIVE</th>\n",
       "      <td>1355161.050</td>\n",
       "      <td>4100324.090</td>\n",
       "    </tr>\n",
       "    <tr>\n",
       "      <th>HOMEMAKER</th>\n",
       "      <td>4248875.800</td>\n",
       "      <td>13528653.780</td>\n",
       "    </tr>\n",
       "    <tr>\n",
       "      <th>INVESTOR</th>\n",
       "      <td>884133.000</td>\n",
       "      <td>2410657.920</td>\n",
       "    </tr>\n",
       "    <tr>\n",
       "      <th>LAWYER</th>\n",
       "      <td>3160478.870</td>\n",
       "      <td>382806.320</td>\n",
       "    </tr>\n",
       "    <tr>\n",
       "      <th>MANAGER</th>\n",
       "      <td>762883.220</td>\n",
       "      <td>1419911.370</td>\n",
       "    </tr>\n",
       "    <tr>\n",
       "      <th>NOT PROVIDED</th>\n",
       "      <td>4866973.960</td>\n",
       "      <td>20416119.010</td>\n",
       "    </tr>\n",
       "    <tr>\n",
       "      <th>OWNER</th>\n",
       "      <td>1001567.360</td>\n",
       "      <td>2344496.920</td>\n",
       "    </tr>\n",
       "    <tr>\n",
       "      <th>PHYSICIAN</th>\n",
       "      <td>3735124.940</td>\n",
       "      <td>3517001.240</td>\n",
       "    </tr>\n",
       "    <tr>\n",
       "      <th>PRESIDENT</th>\n",
       "      <td>1878509.950</td>\n",
       "      <td>4652092.760</td>\n",
       "    </tr>\n",
       "    <tr>\n",
       "      <th>PROFESSOR</th>\n",
       "      <td>2165071.080</td>\n",
       "      <td>288782.730</td>\n",
       "    </tr>\n",
       "    <tr>\n",
       "      <th>REAL ESTATE</th>\n",
       "      <td>528902.090</td>\n",
       "      <td>1616627.250</td>\n",
       "    </tr>\n",
       "    <tr>\n",
       "      <th>RETIRED</th>\n",
       "      <td>25305116.380</td>\n",
       "      <td>22706459.320</td>\n",
       "    </tr>\n",
       "    <tr>\n",
       "      <th>SELF-EMPLOYED</th>\n",
       "      <td>672393.400</td>\n",
       "      <td>1632070.540</td>\n",
       "    </tr>\n",
       "  </tbody>\n",
       "</table>\n",
       "</div>"
      ],
      "text/plain": [
       "party                 Democrat   Republican\n",
       "contbr_occupation                          \n",
       "ATTORNEY          11141982.970  7430110.430\n",
       "CEO                2074974.790  4157391.520\n",
       "CONSULTANT         2459912.710  2511956.950\n",
       "ENGINEER            951525.550  1768608.950\n",
       "EXECUTIVE          1355161.050  4100324.090\n",
       "HOMEMAKER          4248875.800 13528653.780\n",
       "INVESTOR            884133.000  2410657.920\n",
       "LAWYER             3160478.870   382806.320\n",
       "MANAGER             762883.220  1419911.370\n",
       "NOT PROVIDED       4866973.960 20416119.010\n",
       "OWNER              1001567.360  2344496.920\n",
       "PHYSICIAN          3735124.940  3517001.240\n",
       "PRESIDENT          1878509.950  4652092.760\n",
       "PROFESSOR          2165071.080   288782.730\n",
       "REAL ESTATE         528902.090  1616627.250\n",
       "RETIRED           25305116.380 22706459.320\n",
       "SELF-EMPLOYED       672393.400  1632070.540"
      ]
     },
     "execution_count": 34,
     "metadata": {},
     "output_type": "execute_result"
    }
   ],
   "source": [
    "over_2mm"
   ]
  },
  {
   "cell_type": "code",
   "execution_count": 39,
   "metadata": {},
   "outputs": [
    {
     "data": {
      "image/png": "[encoded data removed]",
      "text/plain": [
       "<matplotlib.figure.Figure at 0x23506c8dd30>"
      ]
     },
     "metadata": {},
     "output_type": "display_data"
    }
   ],
   "source": [
    "#create bar plot\n",
    "\n",
    "over_2mm.plot(kind='barh')\n",
    "plt.show()"
   ]
  },
  {
   "cell_type": "markdown",
   "metadata": {},
   "source": [
    "_Total donations by party for top occupations, in the millions_"
   ]
  },
  {
   "cell_type": "code",
   "execution_count": 40,
   "metadata": {
    "collapsed": true
   },
   "outputs": [],
   "source": [
    "#determine top donor occupations or top companies for the two main candidates\n",
    "\n",
    "def get_top_amounts(group, key, n=5):\n",
    "    totals = group.groupby(key)['contb_receipt_amt'].sum()\n",
    "    return totals.nlargest(n)"
   ]
  },
  {
   "cell_type": "code",
   "execution_count": 41,
   "metadata": {
    "collapsed": true
   },
   "outputs": [],
   "source": [
    "#aggregate by occupation and employer\n",
    "\n",
    "grouped = fec_mrbo.groupby('cand_nm')"
   ]
  },
  {
   "cell_type": "code",
   "execution_count": 45,
   "metadata": {},
   "outputs": [
    {
     "data": {
      "text/plain": [
       "cand_nm        contbr_occupation                     \n",
       "Obama, Barack  RETIRED                                  25305116.380\n",
       "               ATTORNEY                                 11141982.970\n",
       "               INFORMATION REQUESTED                     4866973.960\n",
       "               HOMEMAKER                                 4248875.800\n",
       "               PHYSICIAN                                 3735124.940\n",
       "               LAWYER                                    3160478.870\n",
       "               CONSULTANT                                2459912.710\n",
       "Romney, Mitt   RETIRED                                  11508473.590\n",
       "               INFORMATION REQUESTED PER BEST EFFORTS   11396894.840\n",
       "               HOMEMAKER                                 8147446.220\n",
       "               ATTORNEY                                  5364718.820\n",
       "               PRESIDENT                                 2491244.890\n",
       "               EXECUTIVE                                 2300947.030\n",
       "               C.E.O.                                    1968386.110\n",
       "Name: contb_receipt_amt, dtype: float64"
      ]
     },
     "execution_count": 45,
     "metadata": {},
     "output_type": "execute_result"
    }
   ],
   "source": [
    "grouped.apply(get_top_amounts, 'contbr_occupation', n=7)"
   ]
  },
  {
   "cell_type": "code",
   "execution_count": 43,
   "metadata": {},
   "outputs": [
    {
     "data": {
      "text/plain": [
       "cand_nm        contbr_employer                       \n",
       "Obama, Barack  RETIRED                                  22694358.850\n",
       "               SELF-EMPLOYED                            17080985.960\n",
       "               NOT EMPLOYED                              8586308.700\n",
       "               INFORMATION REQUESTED                     5053480.370\n",
       "               HOMEMAKER                                 2605408.540\n",
       "               SELF                                      1076531.200\n",
       "               SELF EMPLOYED                              469290.000\n",
       "               STUDENT                                    318831.450\n",
       "               VOLUNTEER                                  257104.000\n",
       "               MICROSOFT                                  215585.360\n",
       "Romney, Mitt   INFORMATION REQUESTED PER BEST EFFORTS   12059527.240\n",
       "               RETIRED                                  11506225.710\n",
       "               HOMEMAKER                                 8147196.220\n",
       "               SELF-EMPLOYED                             7409860.980\n",
       "               STUDENT                                    496490.940\n",
       "               CREDIT SUISSE                              281150.000\n",
       "               MORGAN STANLEY                             267266.000\n",
       "               GOLDMAN SACH & CO.                         238250.000\n",
       "               BARCLAYS CAPITAL                           162750.000\n",
       "               H.I.G. CAPITAL                             139500.000\n",
       "Name: contb_receipt_amt, dtype: float64"
      ]
     },
     "execution_count": 43,
     "metadata": {},
     "output_type": "execute_result"
    }
   ],
   "source": [
    "grouped.apply(get_top_amounts, 'contbr_employer', n =10)"
   ]
  },
  {
   "cell_type": "code",
   "execution_count": null,
   "metadata": {
    "collapsed": true
   },
   "outputs": [],
   "source": []
  }
 ],
 "metadata": {
  "kernelspec": {
   "display_name": "Python 3",
   "language": "python",
   "name": "python3"
  },
  "language_info": {
   "codemirror_mode": {
    "name": "ipython",
    "version": 3
   },
   "file_extension": ".py",
   "mimetype": "text/x-python",
   "name": "python",
   "nbconvert_exporter": "python",
   "pygments_lexer": "ipython3",
   "version": "3.6.1"
  }
 },
 "nbformat": 4,
 "nbformat_minor": 2
}
